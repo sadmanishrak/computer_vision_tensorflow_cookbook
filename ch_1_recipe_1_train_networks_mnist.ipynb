{
  "nbformat": 4,
  "nbformat_minor": 0,
  "metadata": {
    "colab": {
      "name": "train_networks_mnist.ipynb",
      "provenance": []
    },
    "kernelspec": {
      "name": "python3",
      "display_name": "Python 3"
    },
    "language_info": {
      "name": "python"
    }
  },
  "cells": [
    {
      "cell_type": "code",
      "metadata": {
        "id": "WGN-xBQ1GAb7"
      },
      "source": [
        "from sklearn.model_selection import train_test_split\n",
        "from sklearn.preprocessing import LabelBinarizer\n",
        "from tensorflow.keras import Input\n",
        "from tensorflow.keras.datasets import mnist\n",
        "from tensorflow.keras.layers import Dense\n",
        "from tensorflow.keras.models import *"
      ],
      "execution_count": 2,
      "outputs": []
    },
    {
      "cell_type": "code",
      "metadata": {
        "colab": {
          "base_uri": "https://localhost:8080/"
        },
        "id": "NrY0XpJON9h9",
        "outputId": "367874e6-48c4-4c2a-e5ad-13296ad52d31"
      },
      "source": [
        "(X_train, y_train), (X_test, y_test) = mnist.load_data()"
      ],
      "execution_count": 3,
      "outputs": [
        {
          "output_type": "stream",
          "text": [
            "Downloading data from https://storage.googleapis.com/tensorflow/tf-keras-datasets/mnist.npz\n",
            "11493376/11490434 [==============================] - 0s 0us/step\n"
          ],
          "name": "stdout"
        }
      ]
    },
    {
      "cell_type": "code",
      "metadata": {
        "id": "jG2WaaaLO9BL"
      },
      "source": [
        "X_train = X_train.reshape((X_train.shape[0], 28 * 28 * 1))\n",
        "X_test = X_test.reshape((X_test.shape[0], 28 * 28 * 1))"
      ],
      "execution_count": 4,
      "outputs": []
    },
    {
      "cell_type": "code",
      "metadata": {
        "id": "GvvzMHDpPsBv"
      },
      "source": [
        "X_train = X_train.astype('float32') / 255.0\n",
        "X_test = X_test.astype('float32') / 255.0"
      ],
      "execution_count": 6,
      "outputs": []
    },
    {
      "cell_type": "code",
      "metadata": {
        "id": "0IGWFlA3Pt93"
      },
      "source": [
        "label_binarizer = LabelBinarizer()\n",
        "y_train = label_binarizer.fit_transform(y_train)\n",
        "y_test = label_binarizer.fit_transform(y_test)"
      ],
      "execution_count": 7,
      "outputs": []
    },
    {
      "cell_type": "code",
      "metadata": {
        "colab": {
          "base_uri": "https://localhost:8080/"
        },
        "id": "jvD1SR6RR1c1",
        "outputId": "fad45fda-d979-4ee8-f5ce-22b204d4622d"
      },
      "source": [
        "y_test.shape"
      ],
      "execution_count": 9,
      "outputs": [
        {
          "output_type": "execute_result",
          "data": {
            "text/plain": [
              "(10000, 10)"
            ]
          },
          "metadata": {
            "tags": []
          },
          "execution_count": 9
        }
      ]
    },
    {
      "cell_type": "code",
      "metadata": {
        "id": "Mj62je3yR2b4"
      },
      "source": [
        "X_train, X_valid, y_train, y_valid = train_test_split(X_train, y_train, train_size=0.8)"
      ],
      "execution_count": 10,
      "outputs": []
    },
    {
      "cell_type": "code",
      "metadata": {
        "id": "81nOOHCKSAZ3"
      },
      "source": [
        "sequential_model = Sequential()\n",
        "sequential_model.add(Dense(256, input_shape=(28 * 28 * 1,), activation='sigmoid'))\n",
        "sequential_model.add(Dense(128, activation='sigmoid'))\n",
        "sequential_model.add(Dense(10, activation='softmax'))"
      ],
      "execution_count": 11,
      "outputs": []
    },
    {
      "cell_type": "code",
      "metadata": {
        "id": "1ktG1-bqS5p9"
      },
      "source": [
        "layers = [Dense(256, input_shape=(28 * 28 * 1,), activation='sigmoid'),\n",
        "          Dense(128, activation='sigmoid'),\n",
        "          Dense(10, activation='softmax')]\n",
        "sequential_model2 = Sequential(layers)"
      ],
      "execution_count": 12,
      "outputs": []
    },
    {
      "cell_type": "code",
      "metadata": {
        "id": "KuuZ_jLEUvxh"
      },
      "source": [
        "input_layer = Input(shape=(28 * 28 * 1,))\n",
        "dense_1 = Dense(256, activation='sigmoid')(input_layer)\n",
        "dense_2 = Dense(128, activation='sigmoid')(dense_1)\n",
        "predictions = Dense(10, activation='softmax')(dense_2)\n",
        "functional_model = Model(inputs=input_layer, outputs=predictions)"
      ],
      "execution_count": 14,
      "outputs": []
    },
    {
      "cell_type": "code",
      "metadata": {
        "colab": {
          "base_uri": "https://localhost:8080/"
        },
        "id": "ZmmT7l1AUiht",
        "outputId": "d9918e7a-4bf5-419d-daab-9613a8bd1a07"
      },
      "source": [
        "class ClassModel(Model):\n",
        "    def __init__(self):\n",
        "        super(ClassModel, self).__init__()\n",
        "\n",
        "        self.dense_1 = Dense(256, activation='sigmoid')\n",
        "        self.dense_2 = Dense(256, activation='sigmoid')\n",
        "        self.predictions = Dense(10, activation='softmax')\n",
        "\n",
        "    def call(self, inputs, **kwargs):\n",
        "        x = self.dense_1(inputs)\n",
        "        x = self.dense_2(x)\n",
        "\n",
        "        return self.predictions(x)\n",
        "\n",
        "\n",
        "class_model = ClassModel()\n",
        "\n",
        "models = {\n",
        "    'sequential_model': sequential_model,\n",
        "    'sequential_model_list': sequential_model2,\n",
        "    'functional_model': functional_model,\n",
        "    'class_model': class_model\n",
        "}\n",
        "\n",
        "for name, model in models.items():\n",
        "    print(f'Compiling model: {name}')\n",
        "    model.compile(loss='categorical_crossentropy', optimizer='adam', metrics=['accuracy'])\n",
        "\n",
        "    print(f'Training model: {name}')\n",
        "    model.fit(X_train, y_train,\n",
        "              validation_data=(X_valid, y_valid),\n",
        "              epochs=50,\n",
        "              batch_size=256,\n",
        "              verbose=0)\n",
        "\n",
        "    _, accuracy = model.evaluate(X_test, y_test, verbose=0)\n",
        "    print(f'Testing model: {name}. \\nAccuracy: {accuracy}')\n",
        "    print('---')\n"
      ],
      "execution_count": 15,
      "outputs": [
        {
          "output_type": "stream",
          "text": [
            "Compiling model: sequential_model\n",
            "Training model: sequential_model\n",
            "Testing model: sequential_model. \n",
            "Accuracy: 0.9814000129699707\n",
            "---\n",
            "Compiling model: sequential_model_list\n",
            "Training model: sequential_model_list\n",
            "Testing model: sequential_model_list. \n",
            "Accuracy: 0.9800000190734863\n",
            "---\n",
            "Compiling model: functional_model\n",
            "Training model: functional_model\n",
            "Testing model: functional_model. \n",
            "Accuracy: 0.9811999797821045\n",
            "---\n",
            "Compiling model: class_model\n",
            "Training model: class_model\n",
            "Testing model: class_model. \n",
            "Accuracy: 0.9672999978065491\n",
            "---\n"
          ],
          "name": "stdout"
        }
      ]
    },
    {
      "cell_type": "code",
      "metadata": {
        "id": "Ne-LI-YxUnRU"
      },
      "source": [
        ""
      ],
      "execution_count": null,
      "outputs": []
    }
  ]
}